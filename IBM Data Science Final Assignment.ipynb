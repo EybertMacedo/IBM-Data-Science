{
 "cells": [
  {
   "cell_type": "markdown",
   "metadata": {},
   "source": [
    "<center>\n",
    "    <img src=\"https://cf-courses-data.s3.us.cloud-object-storage.appdomain.cloud/IBMDeveloperSkillsNetwork-DS0105EN-SkillsNetwork/labs/Module2/images/SN_web_lightmode.png\" width=\"300\" alt=\"cognitiveclass.ai logo\">\n",
    "</center>\n"
   ]
  },
  {
   "cell_type": "markdown",
   "metadata": {},
   "source": [
    "#### Add your code below following the instructions given in the course\n"
   ]
  },
  {
   "cell_type": "markdown",
   "metadata": {},
   "source": [
    "# IBM Data Science Final Assignment "
   ]
  },
  {
   "cell_type": "markdown",
   "metadata": {},
   "source": [
    "## This is my final assignment Jupyter notebook for IBM's \"Tools for Data Science\" course"
   ]
  },
  {
   "cell_type": "markdown",
   "metadata": {
    "tags": []
   },
   "source": [
    "## List of data science languages:\n",
    "    -Python\n",
    "    -R\n",
    "    -SQL\n",
    "    -Julia\n",
    "    -Java\n",
    "    -Javacript\n",
    "    -Scala\n",
    "    -C / C++\n",
    "    -MATLAB"
   ]
  },
  {
   "cell_type": "markdown",
   "metadata": {},
   "source": [
    "## List of data science libraries:\n",
    "    -Matplotlib\n",
    "    -TensorFlow\n",
    "    -NumPy\n",
    "    -Pandas\n",
    "    -Keras\n",
    "    -PyTorch\n",
    "    -SciPy\n",
    "    -Seaborn\n",
    "    -Plotly\n",
    "    -LightGBM\n",
    "    -Statsmodels\n",
    "    -Theano\n",
    "    -Bokeh\n",
    "    -Ggplot2\n",
    "    -OpenCV\n",
    "    -Pybrain\n",
    "    -XGBoost\n",
    "    -Altair\n",
    "    -NLTK\n",
    "    -spaCy"
   ]
  },
  {
   "cell_type": "markdown",
   "metadata": {},
   "source": [
    "## List of data science tools:\n",
    "\n",
    "| Open Source Tools  | Commercial Tools | Cloud based Tools |\n",
    "| :-------------:| :-------------: |:-------------: |\n",
    "| Hadoop  | Tableau | Watson Openscale\n",
    "| MYSQL | Power BI  | Microsoft Azure \n",
    "| Jupyter  | IBM Cognos Analytics | Cloudant\n",
    "| VSCode  | SPSS Modeler  | Amazon Sagemaker\n",
    "| Spark  | H2O Driverless AI | Watson Studio\n",
    "| Git  | RedHat OpenShift. |IBM Data Refinery"
   ]
  },
  {
   "cell_type": "markdown",
   "metadata": {},
   "source": [
    "## Arithmetic Expression Examples\n",
    "\n",
    "Below are some examples of arithmetic expressions, demonstrating addition and multiplication. These examples showcase these operations and their results.\n"
   ]
  },
  {
   "cell_type": "code",
   "execution_count": 6,
   "metadata": {
    "tags": []
   },
   "outputs": [
    {
     "name": "stdout",
     "output_type": "stream",
     "text": [
      "The result of adding 5 and 3 is: 8\n",
      "The result of multiplying 5 and 3 is: 15\n"
     ]
    }
   ],
   "source": [
    "# Define numbers\n",
    "num1 = 5\n",
    "num2 = 3\n",
    "\n",
    "# Add and multiply numbers\n",
    "result_add = num1 + num2\n",
    "result_multiply = num1 * num2\n",
    "\n",
    "# Print results\n",
    "print(f\"The result of adding {num1} and {num2} is: {result_add}\")\n",
    "print(f\"The result of multiplying {num1} and {num2} is: {result_multiply}\")"
   ]
  },
  {
   "cell_type": "code",
   "execution_count": 7,
   "metadata": {
    "tags": []
   },
   "outputs": [
    {
     "name": "stdout",
     "output_type": "stream",
     "text": [
      "120 minutes is equal to 2.0 hours.\n"
     ]
    }
   ],
   "source": [
    "# Convert minutes to hours\n",
    "def minutes_to_hours(minutes):\n",
    "    hours = minutes / 60\n",
    "    return hours\n",
    "\n",
    "# Example usage:\n",
    "minutes = 120\n",
    "hours = minutes_to_hours(minutes)\n",
    "print(f\"{minutes} minutes is equal to {hours} hours.\")"
   ]
  },
  {
   "cell_type": "markdown",
   "metadata": {},
   "source": [
    "## List of objectives for Jupyter Notebooks\n",
    "\n",
    "1. Familiarize with the Jupyter Notebook interface.\n",
    "2. Understand the concept of Markdown cells and how to use them for documentation.\n",
    "3. Learn how to create, edit, and execute code cells.\n",
    "5. Practice organizing code into logical sections using Markdown headers.\n",
    "8. Explore collaborative features, such as sharing notebooks with others.\n"
   ]
  },
  {
   "cell_type": "markdown",
   "metadata": {},
   "source": [
    "## Author's name:\n",
    "### Eybert Macedo"
   ]
  },
  {
   "cell_type": "markdown",
   "metadata": {},
   "source": [
    "## GitHub repo: \n",
    "### https://github.com/EybertMacedo/IBM-Data-Science/blob/main/IBM%20Data%20Science%20Final%20Assignment.ipynb"
   ]
  }
 ],
 "metadata": {
  "kernelspec": {
   "display_name": "Python",
   "language": "python",
   "name": "conda-env-python-py"
  },
  "language_info": {
   "codemirror_mode": {
    "name": "ipython",
    "version": 3
   },
   "file_extension": ".py",
   "mimetype": "text/x-python",
   "name": "python",
   "nbconvert_exporter": "python",
   "pygments_lexer": "ipython3",
   "version": "3.7.12"
  }
 },
 "nbformat": 4,
 "nbformat_minor": 4
}
